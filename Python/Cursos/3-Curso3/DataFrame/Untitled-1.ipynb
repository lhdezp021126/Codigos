{
 "cells": [
  {
   "cell_type": "code",
   "execution_count": null,
   "metadata": {},
   "outputs": [
    {
     "ename": "",
     "evalue": "",
     "output_type": "error",
     "traceback": [
      "\u001b[1;31mRunning cells with 'c:\\Users\\Lázaro\\AppData\\Local\\Programs\\Python\\Python311\\python.exe' requires the ipykernel package.\n",
      "\u001b[1;31mRun the following command to install 'ipykernel' into the Python environment. \n",
      "\u001b[1;31mCommand: 'c:/Users/Lázaro/AppData/Local/Programs/Python/Python311/python.exe -m pip install ipykernel -U --user --force-reinstall'"
     ]
    }
   ],
   "source": [
    "from pandas import DataFrame;\n",
    "from pandas import read_csv;\n",
    "from pandas import read_json;\n",
    "\n",
    "df=DataFrame(data=[[1,2,3],[4,5,6],[7,8,9]],columns=[1,2,3],index=[1,2,3]);\n",
    "\n",
    "print(df);\n",
    "\n",
    "df=DataFrame(data={'a':[1,2,3],'b':[1,2,3],'c':[1,2,3]},columns=['a','ab','b']);\n",
    "\n",
    "print(df);\n",
    "\n",
    "d = {\"fila1\": [1, 4, 7],\n",
    "     \"fila2\": [2, 5, 8],\n",
    "     \"fila3\": [3, 6, 9]}\n",
    "\n",
    "df = DataFrame.from_dict(d, orient = \"index\", columns = [\"A\", \"B\", \"C\"])\n",
    "print(df)\n",
    "\n",
    "data=list(zip([1,2,3],[4,5,6]));\n",
    "\n",
    "df=DataFrame(data,columns=['x','y']);\n",
    "\n",
    "print(df);\n",
    "\n",
    "dic={'x':[1,2,3],'y':[4,5,6]};\n",
    "\n",
    "df=DataFrame.from_dict(data=dic,orient='columns');\n",
    "\n",
    "print(df);\n",
    "\n",
    "print(df.shape);\n",
    "\n",
    "print(df.size);\n",
    "\n",
    "print(df.ndim);\n",
    "\n",
    "print(df['x']);\n",
    "\n",
    "print(df[df.columns[1]]);\n",
    "\n",
    "print(df.loc[:,'x']);\n",
    "\n",
    "print(df.iloc[:,1]);\n",
    "\n",
    "for i,j in df.iterrows():\n",
    "     print('{}\\n  {}'.format(i,j));\n",
    "     \n",
    "for i in df.itertuples():\n",
    "     print('{}'.format(i));\n",
    "     \n",
    "#for i,j in df.iteritems():\n",
    "#     print('{}\\n  {}'.format(i,j));\n",
    "     \n",
    "df=read_csv('D:/Codigos/Python/Cursos/3-Curso3/DataFrame/179 characters-simpsons.csv');\n",
    "\n",
    "print(df.head(10));\n",
    "\n",
    "print(df.dropna())\n",
    "\n",
    "     \n",
    "df=read_json('D:/Codigos/Python/Cursos/3-Curso3/DataFrame/182 json_index_example.json',orient='index');\n",
    "\n",
    "print(df.head(10));"
   ]
  }
 ],
 "metadata": {
  "kernelspec": {
   "display_name": "Python 3",
   "language": "python",
   "name": "python3"
  },
  "language_info": {
   "name": "python",
   "version": "3.11.4"
  },
  "orig_nbformat": 4
 },
 "nbformat": 4,
 "nbformat_minor": 2
}
